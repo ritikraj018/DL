{
 "cells": [
  {
   "cell_type": "code",
   "execution_count": 16,
   "metadata": {},
   "outputs": [
    {
     "name": "stdout",
     "output_type": "stream",
     "text": [
      "2.12.0\n",
      "1875/1875 [==============================] - 3s 1ms/step - loss: 2.3650 - accuracy: 0.6933 - val_loss: 0.6327 - val_accuracy: 0.8615\n",
      "1875/1875 [==============================] - 2s 1ms/step - loss: 0.6962 - accuracy: 0.8097 - val_loss: 0.4136 - val_accuracy: 0.8952\n",
      "313/313 [==============================] - 0s 716us/step - loss: 0.4136 - accuracy: 0.8952\n",
      "[0.41358691453933716, 0.8952000141143799]\n"
     ]
    }
   ],
   "source": [
    "# import tensorflow -check the version\n",
    "import tensorflow as tf\n",
    "print(tf.__version__)\n",
    "\n",
    "# pip install tensorflow\n",
    "# pip install keras\n",
    "\n",
    "# Load the data\n",
    "mnist=tf.keras.datasets.mnist\n",
    "\n",
    "(xtrain,ytrain),(xtest,ytest)=mnist.load_data()\n",
    "\n",
    "##2. Design of NN\n",
    "# NN Model design\n",
    "\n",
    "model= tf.keras.models.Sequential([tf.keras.layers.Flatten(input_shape=(28,28)),\n",
    "                                   tf.keras.layers.Dense(90,activation='relu'),\n",
    "                                   tf.keras.layers.Dropout(0.2),\n",
    "                                   tf.keras.layers.Dense(10,activation='softmax')\n",
    "                                  ])\n",
    "\n",
    "#3. Compile the model\n",
    "model.compile(optimizer='adam',loss='sparse_categorical_crossentropy',metrics=['accuracy'])\n",
    "\n",
    "#4. Train the model - Fit \n",
    "r=model.fit(xtrain,ytrain,validation_data=(xtest,ytest),epochs=1)\n",
    "\n",
    "#4. Train the model - Fit \n",
    "result=model.fit(xtrain,ytrain,validation_data=(xtest,ytest),epochs=1)\n",
    "\n",
    "#5.Model evaluation\n",
    "print(model.evaluate(xtest,ytest))"
   ]
  },
  {
   "cell_type": "code",
   "execution_count": null,
   "metadata": {},
   "outputs": [],
   "source": []
  }
 ],
 "metadata": {
  "kernelspec": {
   "display_name": "Python 3 (ipykernel)",
   "language": "python",
   "name": "python3"
  },
  "language_info": {
   "codemirror_mode": {
    "name": "ipython",
    "version": 3
   },
   "file_extension": ".py",
   "mimetype": "text/x-python",
   "name": "python",
   "nbconvert_exporter": "python",
   "pygments_lexer": "ipython3",
   "version": "3.9.7"
  }
 },
 "nbformat": 4,
 "nbformat_minor": 4
}
